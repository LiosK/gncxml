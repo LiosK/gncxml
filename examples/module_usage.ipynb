{
 "cells": [
  {
   "cell_type": "markdown",
   "metadata": {},
   "source": [
    "# gncxml Usage Examples"
   ]
  },
  {
   "cell_type": "markdown",
   "metadata": {},
   "source": [
    "## Setup"
   ]
  },
  {
   "cell_type": "code",
   "execution_count": 1,
   "metadata": {},
   "outputs": [],
   "source": [
    "import sys\n",
    "import gncxml\n",
    "\n",
    "try:\n",
    "    book = gncxml.Book(\"mybook.gnucash\")\n",
    "except OSError as err:\n",
    "    sys.exit(err)"
   ]
  },
  {
   "cell_type": "code",
   "execution_count": 2,
   "metadata": {},
   "outputs": [],
   "source": [
    "import pandas as pd\n",
    "pd.options.display.memory_usage = False"
   ]
  },
  {
   "cell_type": "markdown",
   "metadata": {},
   "source": [
    "## Book.list_*()\n",
    "\n",
    "Book.list_*() methods are the primary one-stop methods that return the entries as flat pandas.DataFrame objects after joining relevant internal tables."
   ]
  },
  {
   "cell_type": "code",
   "execution_count": 3,
   "metadata": {},
   "outputs": [
    {
     "name": "stdout",
     "output_type": "stream",
     "text": [
      "<class 'pandas.core.frame.DataFrame'>\n",
      "MultiIndex: 210 entries, (guid, 64806997695ef7c53fc2e6eef90f6d2b) to (guid, 88891af9e7c7bca8689f70cf09825841)\n",
      "Data columns (total 12 columns):\n",
      "path                209 non-null object\n",
      "toplevel            209 non-null object\n",
      "type                210 non-null object\n",
      "code                32 non-null object\n",
      "description         203 non-null object\n",
      "cmd_space           210 non-null object\n",
      "cmd_id              209 non-null object\n",
      "cmd_name            209 non-null object\n",
      "cmd_xcode           28 non-null object\n",
      "cmd_fraction        209 non-null object\n",
      "cmd_exponent        209 non-null float64\n",
      "cmd_quote_source    198 non-null object\n",
      "dtypes: float64(1), object(11)"
     ]
    }
   ],
   "source": [
    "book.list_accounts().info()"
   ]
  },
  {
   "cell_type": "code",
   "execution_count": 4,
   "metadata": {},
   "outputs": [
    {
     "name": "stdout",
     "output_type": "stream",
     "text": [
      "<class 'pandas.core.frame.DataFrame'>\n",
      "MultiIndex: 41 entries, (ISO4217, JPY) to (template, template)\n",
      "Data columns (total 5 columns):\n",
      "name            41 non-null object\n",
      "xcode           29 non-null object\n",
      "fraction        41 non-null object\n",
      "exponent        41 non-null float64\n",
      "quote_source    29 non-null object\n",
      "dtypes: float64(1), object(4)"
     ]
    }
   ],
   "source": [
    "book.list_commodities().info()"
   ]
  },
  {
   "cell_type": "code",
   "execution_count": 5,
   "metadata": {},
   "outputs": [
    {
     "name": "stdout",
     "output_type": "stream",
     "text": [
      "<class 'pandas.core.frame.DataFrame'>\n",
      "RangeIndex: 2721 entries, 0 to 2720\n",
      "Data columns (total 19 columns):\n",
      "time                  2721 non-null datetime64[ns, pytz.FixedOffset(540)]\n",
      "cmd_space             2721 non-null object\n",
      "cmd_id                2721 non-null object\n",
      "crncy_space           2721 non-null object\n",
      "crncy_id              2721 non-null object\n",
      "source                2721 non-null object\n",
      "type                  2721 non-null object\n",
      "value                 2721 non-null object\n",
      "value_frac            2721 non-null object\n",
      "cmd_name              2721 non-null object\n",
      "cmd_xcode             2120 non-null object\n",
      "cmd_fraction          2721 non-null object\n",
      "cmd_exponent          2721 non-null float64\n",
      "cmd_quote_source      2075 non-null object\n",
      "crncy_name            2721 non-null object\n",
      "crncy_xcode           0 non-null object\n",
      "crncy_fraction        2721 non-null object\n",
      "crncy_exponent        2721 non-null float64\n",
      "crncy_quote_source    2721 non-null object\n",
      "dtypes: datetime64[ns, pytz.FixedOffset(540)](1), float64(2), object(16)"
     ]
    }
   ],
   "source": [
    "book.list_prices().info()"
   ]
  },
  {
   "cell_type": "code",
   "execution_count": 6,
   "metadata": {},
   "outputs": [
    {
     "name": "stdout",
     "output_type": "stream",
     "text": [
      "<class 'pandas.core.frame.DataFrame'>\n",
      "MultiIndex: 35440 entries, (guid, faf151dc359482b7a8c9a3b877da80ab) to (guid, a1eafed887daa037dddb3cf3b7afbde3)\n",
      "Data columns (total 31 columns):\n",
      "memo                      35440 non-null object\n",
      "reconciled                35440 non-null object\n",
      "value                     35440 non-null object\n",
      "value_frac                35440 non-null object\n",
      "quantity                  35440 non-null object\n",
      "quantity_frac             35440 non-null object\n",
      "act_idtype                35440 non-null object\n",
      "act_id                    35440 non-null object\n",
      "trn_idtype                35440 non-null object\n",
      "trn_id                    35440 non-null object\n",
      "act_path                  35440 non-null object\n",
      "act_toplevel              35440 non-null object\n",
      "act_type                  35440 non-null object\n",
      "act_code                  1435 non-null object\n",
      "act_description           35329 non-null object\n",
      "act_cmd_space             35440 non-null object\n",
      "act_cmd_id                35440 non-null object\n",
      "act_cmd_name              35440 non-null object\n",
      "act_cmd_xcode             1142 non-null object\n",
      "act_cmd_fraction          35440 non-null object\n",
      "act_cmd_exponent          35440 non-null float64\n",
      "act_cmd_quote_source      35239 non-null object\n",
      "trn_date                  35440 non-null datetime64[ns]\n",
      "trn_description           35440 non-null object\n",
      "trn_crncy_space           35440 non-null object\n",
      "trn_crncy_id              35440 non-null object\n",
      "trn_crncy_name            35440 non-null object\n",
      "trn_crncy_xcode           0 non-null object\n",
      "trn_crncy_fraction        35440 non-null object\n",
      "trn_crncy_exponent        35440 non-null float64\n",
      "trn_crncy_quote_source    35440 non-null object\n",
      "dtypes: datetime64[ns](1), float64(2), object(28)"
     ]
    }
   ],
   "source": [
    "book.list_splits().info()"
   ]
  },
  {
   "cell_type": "code",
   "execution_count": 7,
   "metadata": {},
   "outputs": [
    {
     "name": "stdout",
     "output_type": "stream",
     "text": [
      "<class 'pandas.core.frame.DataFrame'>\n",
      "MultiIndex: 16314 entries, (guid, 9e4b4e15282c605759a1fa8ac971cfbc) to (guid, 953210221d2a18b8f171047fe348fded)\n",
      "Data columns (total 9 columns):\n",
      "date                  16314 non-null datetime64[ns]\n",
      "description           16314 non-null object\n",
      "crncy_space           16314 non-null object\n",
      "crncy_id              16314 non-null object\n",
      "crncy_name            16314 non-null object\n",
      "crncy_xcode           0 non-null object\n",
      "crncy_fraction        16314 non-null object\n",
      "crncy_exponent        16314 non-null float64\n",
      "crncy_quote_source    16314 non-null object\n",
      "dtypes: datetime64[ns](1), float64(1), object(7)"
     ]
    }
   ],
   "source": [
    "book.list_transactions().info()"
   ]
  },
  {
   "cell_type": "markdown",
   "metadata": {},
   "source": [
    "## Other methods\n",
    "\n",
    "Other methods return raw tables as pandas.DataFrame objects. Most of tables are indexed for convenience of join operations."
   ]
  },
  {
   "cell_type": "code",
   "execution_count": 8,
   "metadata": {},
   "outputs": [
    {
     "name": "stdout",
     "output_type": "stream",
     "text": [
      "<class 'pandas.core.frame.DataFrame'>\n",
      "MultiIndex: 210 entries, (guid, 64806997695ef7c53fc2e6eef90f6d2b) to (guid, 88891af9e7c7bca8689f70cf09825841)\n",
      "Data columns (total 7 columns):\n",
      "path           209 non-null object\n",
      "toplevel       209 non-null object\n",
      "type           210 non-null object\n",
      "code           32 non-null object\n",
      "description    203 non-null object\n",
      "cmd_space      210 non-null object\n",
      "cmd_id         209 non-null object\n",
      "dtypes: object(7)"
     ]
    }
   ],
   "source": [
    "book.accounts().info()"
   ]
  },
  {
   "cell_type": "code",
   "execution_count": 9,
   "metadata": {},
   "outputs": [
    {
     "name": "stdout",
     "output_type": "stream",
     "text": [
      "<class 'pandas.core.frame.DataFrame'>\n",
      "MultiIndex: 41 entries, (ISO4217, JPY) to (template, template)\n",
      "Data columns (total 5 columns):\n",
      "name            41 non-null object\n",
      "xcode           29 non-null object\n",
      "fraction        41 non-null object\n",
      "exponent        41 non-null float64\n",
      "quote_source    29 non-null object\n",
      "dtypes: float64(1), object(4)"
     ]
    }
   ],
   "source": [
    "book.commodities().info()"
   ]
  },
  {
   "cell_type": "code",
   "execution_count": 10,
   "metadata": {},
   "outputs": [
    {
     "name": "stdout",
     "output_type": "stream",
     "text": [
      "<class 'pandas.core.frame.DataFrame'>\n",
      "RangeIndex: 2721 entries, 0 to 2720\n",
      "Data columns (total 9 columns):\n",
      "time           2721 non-null datetime64[ns, pytz.FixedOffset(540)]\n",
      "cmd_space      2721 non-null object\n",
      "cmd_id         2721 non-null object\n",
      "crncy_space    2721 non-null object\n",
      "crncy_id       2721 non-null object\n",
      "source         2721 non-null object\n",
      "type           2721 non-null object\n",
      "value          2721 non-null object\n",
      "value_frac     2721 non-null object\n",
      "dtypes: datetime64[ns, pytz.FixedOffset(540)](1), object(8)"
     ]
    }
   ],
   "source": [
    "book.prices().info()"
   ]
  },
  {
   "cell_type": "code",
   "execution_count": 11,
   "metadata": {},
   "outputs": [
    {
     "name": "stdout",
     "output_type": "stream",
     "text": [
      "<class 'pandas.core.frame.DataFrame'>\n",
      "MultiIndex: 35440 entries, (guid, faf151dc359482b7a8c9a3b877da80ab) to (guid, a1eafed887daa037dddb3cf3b7afbde3)\n",
      "Data columns (total 10 columns):\n",
      "memo             35440 non-null object\n",
      "reconciled       35440 non-null object\n",
      "value            35440 non-null object\n",
      "value_frac       35440 non-null object\n",
      "quantity         35440 non-null object\n",
      "quantity_frac    35440 non-null object\n",
      "act_idtype       35440 non-null object\n",
      "act_id           35440 non-null object\n",
      "trn_idtype       35440 non-null object\n",
      "trn_id           35440 non-null object\n",
      "dtypes: object(10)"
     ]
    }
   ],
   "source": [
    "book.splits().info()"
   ]
  },
  {
   "cell_type": "code",
   "execution_count": 12,
   "metadata": {},
   "outputs": [
    {
     "name": "stdout",
     "output_type": "stream",
     "text": [
      "<class 'pandas.core.frame.DataFrame'>\n",
      "MultiIndex: 16314 entries, (guid, 9e4b4e15282c605759a1fa8ac971cfbc) to (guid, 953210221d2a18b8f171047fe348fded)\n",
      "Data columns (total 4 columns):\n",
      "date           16314 non-null datetime64[ns]\n",
      "description    16314 non-null object\n",
      "crncy_space    16314 non-null object\n",
      "crncy_id       16314 non-null object\n",
      "dtypes: datetime64[ns](1), object(3)"
     ]
    }
   ],
   "source": [
    "book.transactions().info()"
   ]
  }
 ],
 "metadata": {
  "kernelspec": {
   "display_name": "Python 3",
   "language": "python",
   "name": "python3"
  },
  "language_info": {
   "codemirror_mode": {
    "name": "ipython",
    "version": 3
   },
   "file_extension": ".py",
   "mimetype": "text/x-python",
   "name": "python",
   "nbconvert_exporter": "python",
   "pygments_lexer": "ipython3",
   "version": "3.6.3"
  }
 },
 "nbformat": 4,
 "nbformat_minor": 2
}
