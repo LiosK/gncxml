{
 "cells": [
  {
   "cell_type": "markdown",
   "metadata": {},
   "source": [
    "# gncxml Usage Examples"
   ]
  },
  {
   "cell_type": "markdown",
   "metadata": {},
   "source": [
    "## Setup"
   ]
  },
  {
   "cell_type": "code",
   "execution_count": 1,
   "metadata": {},
   "outputs": [],
   "source": [
    "import sys\n",
    "import gncxml\n",
    "\n",
    "try:\n",
    "    book = gncxml.Book(\"mybook.gnucash\")\n",
    "except OSError as err:\n",
    "    sys.exit(err)"
   ]
  },
  {
   "cell_type": "code",
   "execution_count": 2,
   "metadata": {},
   "outputs": [],
   "source": [
    "import pandas as pd\n",
    "pd.options.display.memory_usage = False"
   ]
  },
  {
   "cell_type": "markdown",
   "metadata": {},
   "source": [
    "## API Reference"
   ]
  },
  {
   "cell_type": "code",
   "execution_count": 3,
   "metadata": {},
   "outputs": [
    {
     "name": "stdout",
     "output_type": "stream",
     "text": [
      "Help on class Book in module gncxml.book:\n",
      "\n",
      "class Book(builtins.object)\n",
      " |  Book(gncfile)\n",
      " |  \n",
      " |  Parse GnuCash XML data file and provide interface to read journal entries and master data tables.\n",
      " |  \n",
      " |  Methods defined here:\n",
      " |  \n",
      " |  __init__(self, gncfile)\n",
      " |      Parameters\n",
      " |      ----------\n",
      " |      gncfile : file name or file object (io.BufferedReader)\n",
      " |          GnuCash data file (XML format)\n",
      " |  \n",
      " |  accounts(self)\n",
      " |      Return account entries as pandas.DataFrame.\n",
      " |  \n",
      " |  commodities(self)\n",
      " |      Return commodity (aka currency) entries as pandas.DataFrame.\n",
      " |  \n",
      " |  list_accounts(self)\n",
      " |      Return account entries as flat pandas.DataFrame after joining relevant tables.\n",
      " |  \n",
      " |  list_commodities(self)\n",
      " |      Return commodity (aka currency) entries as pandas.DataFrame (synonym for commodities()).\n",
      " |  \n",
      " |  list_prices(self)\n",
      " |      Return commodity price entries as flat pandas.DataFrame after joining relevant tables.\n",
      " |  \n",
      " |  list_splits(self)\n",
      " |      Return split (aka line item) entries as flat pandas.DataFrame after joining relevant tables.\n",
      " |  \n",
      " |  list_transactions(self)\n",
      " |      Return transaction (aka header) entries as flat pandas.DataFrame after joining relevant tables.\n",
      " |  \n",
      " |  prices(self)\n",
      " |      Return commodity price entries as pandas.DataFrame.\n",
      " |  \n",
      " |  splits(self)\n",
      " |      Return split (aka line item) entries as pandas.DataFrame.\n",
      " |  \n",
      " |  transactions(self)\n",
      " |      Return transaction (aka header) entries as pandas.DataFrame.\n",
      " |  \n",
      " |  ----------------------------------------------------------------------\n",
      " |  Data descriptors defined here:\n",
      " |  \n",
      " |  __dict__\n",
      " |      dictionary for instance variables (if defined)\n",
      " |  \n",
      " |  __weakref__\n",
      " |      list of weak references to the object (if defined)\n",
      "\n"
     ]
    }
   ],
   "source": [
    "help(gncxml.Book)"
   ]
  },
  {
   "cell_type": "markdown",
   "metadata": {},
   "source": [
    "## Book.list_*()\n",
    "\n",
    "Book.list_*() methods are the primary one-stop methods that return the entries as flat pandas.DataFrame objects after joining relevant internal tables."
   ]
  },
  {
   "cell_type": "code",
   "execution_count": 4,
   "metadata": {},
   "outputs": [
    {
     "name": "stdout",
     "output_type": "stream",
     "text": [
      "<class 'pandas.core.frame.DataFrame'>\n",
      "MultiIndex: 227 entries, ('guid', '64806997695ef7c53fc2e6eef90f6d2b') to ('guid', '88891af9e7c7bca8689f70cf09825841')\n",
      "Data columns (total 12 columns):\n",
      " #   Column            Non-Null Count  Dtype  \n",
      "---  ------            --------------  -----  \n",
      " 0   path              226 non-null    object \n",
      " 1   toplevel          226 non-null    object \n",
      " 2   type              227 non-null    object \n",
      " 3   code              33 non-null     object \n",
      " 4   description       220 non-null    object \n",
      " 5   cmd_space         227 non-null    object \n",
      " 6   cmd_id            226 non-null    object \n",
      " 7   cmd_name          226 non-null    object \n",
      " 8   cmd_xcode         41 non-null     object \n",
      " 9   cmd_fraction      226 non-null    object \n",
      " 10  cmd_exponent      226 non-null    float64\n",
      " 11  cmd_quote_source  215 non-null    object \n",
      "dtypes: float64(1), object(11)"
     ]
    }
   ],
   "source": [
    "book.list_accounts().info()"
   ]
  },
  {
   "cell_type": "code",
   "execution_count": 5,
   "metadata": {},
   "outputs": [
    {
     "name": "stdout",
     "output_type": "stream",
     "text": [
      "<class 'pandas.core.frame.DataFrame'>\n",
      "MultiIndex: 49 entries, ('CURRENCY', 'JPY') to ('template', 'template')\n",
      "Data columns (total 5 columns):\n",
      " #   Column        Non-Null Count  Dtype  \n",
      "---  ------        --------------  -----  \n",
      " 0   name          49 non-null     object \n",
      " 1   xcode         42 non-null     object \n",
      " 2   fraction      49 non-null     object \n",
      " 3   exponent      49 non-null     float64\n",
      " 4   quote_source  37 non-null     object \n",
      "dtypes: float64(1), object(4)"
     ]
    }
   ],
   "source": [
    "book.list_commodities().info()"
   ]
  },
  {
   "cell_type": "code",
   "execution_count": 6,
   "metadata": {},
   "outputs": [
    {
     "name": "stdout",
     "output_type": "stream",
     "text": [
      "<class 'pandas.core.frame.DataFrame'>\n",
      "RangeIndex: 3454 entries, 0 to 3453\n",
      "Data columns (total 19 columns):\n",
      " #   Column              Non-Null Count  Dtype              \n",
      "---  ------              --------------  -----              \n",
      " 0   time                3454 non-null   datetime64[ns, UTC]\n",
      " 1   cmd_space           3454 non-null   object             \n",
      " 2   cmd_id              3454 non-null   object             \n",
      " 3   crncy_space         3454 non-null   object             \n",
      " 4   crncy_id            3454 non-null   object             \n",
      " 5   source              3454 non-null   object             \n",
      " 6   type                3454 non-null   object             \n",
      " 7   value               3454 non-null   object             \n",
      " 8   value_frac          3454 non-null   object             \n",
      " 9   cmd_name            3454 non-null   object             \n",
      " 10  cmd_xcode           2987 non-null   object             \n",
      " 11  cmd_fraction        3454 non-null   object             \n",
      " 12  cmd_exponent        3454 non-null   float64            \n",
      " 13  cmd_quote_source    2739 non-null   object             \n",
      " 14  crncy_name          3454 non-null   object             \n",
      " 15  crncy_xcode         0 non-null      object             \n",
      " 16  crncy_fraction      3454 non-null   object             \n",
      " 17  crncy_exponent      3454 non-null   float64            \n",
      " 18  crncy_quote_source  3454 non-null   object             \n",
      "dtypes: datetime64[ns, UTC](1), float64(2), object(16)"
     ]
    }
   ],
   "source": [
    "book.list_prices().info()"
   ]
  },
  {
   "cell_type": "code",
   "execution_count": 7,
   "metadata": {},
   "outputs": [
    {
     "name": "stdout",
     "output_type": "stream",
     "text": [
      "<class 'pandas.core.frame.DataFrame'>\n",
      "MultiIndex: 50694 entries, ('guid', 'faf151dc359482b7a8c9a3b877da80ab') to ('guid', '4081bca6b2a5417fbfe3c305d72d041b')\n",
      "Data columns (total 33 columns):\n",
      " #   Column                  Non-Null Count  Dtype         \n",
      "---  ------                  --------------  -----         \n",
      " 0   action                  1563 non-null   object        \n",
      " 1   memo                    6466 non-null   object        \n",
      " 2   reconciled              50694 non-null  object        \n",
      " 3   value                   50694 non-null  object        \n",
      " 4   value_frac              50694 non-null  object        \n",
      " 5   quantity                50694 non-null  object        \n",
      " 6   quantity_frac           50694 non-null  object        \n",
      " 7   act_idtype              50694 non-null  object        \n",
      " 8   act_id                  50694 non-null  object        \n",
      " 9   trn_idtype              50694 non-null  object        \n",
      " 10  trn_id                  50694 non-null  object        \n",
      " 11  act_path                50694 non-null  object        \n",
      " 12  act_toplevel            50694 non-null  object        \n",
      " 13  act_type                50694 non-null  object        \n",
      " 14  act_code                1606 non-null   object        \n",
      " 15  act_description         47067 non-null  object        \n",
      " 16  act_cmd_space           50694 non-null  object        \n",
      " 17  act_cmd_id              50694 non-null  object        \n",
      " 18  act_cmd_name            50694 non-null  object        \n",
      " 19  act_cmd_xcode           1558 non-null   object        \n",
      " 20  act_cmd_fraction        50694 non-null  object        \n",
      " 21  act_cmd_exponent        50694 non-null  float64       \n",
      " 22  act_cmd_quote_source    50474 non-null  object        \n",
      " 23  trn_date                50694 non-null  datetime64[ns]\n",
      " 24  trn_num                 10241 non-null  object        \n",
      " 25  trn_description         50694 non-null  object        \n",
      " 26  trn_crncy_space         50694 non-null  object        \n",
      " 27  trn_crncy_id            50694 non-null  object        \n",
      " 28  trn_crncy_name          50694 non-null  object        \n",
      " 29  trn_crncy_xcode         0 non-null      object        \n",
      " 30  trn_crncy_fraction      50694 non-null  object        \n",
      " 31  trn_crncy_exponent      50694 non-null  float64       \n",
      " 32  trn_crncy_quote_source  50694 non-null  object        \n",
      "dtypes: datetime64[ns](1), float64(2), object(30)"
     ]
    }
   ],
   "source": [
    "book.list_splits().info()"
   ]
  },
  {
   "cell_type": "code",
   "execution_count": 8,
   "metadata": {},
   "outputs": [
    {
     "name": "stdout",
     "output_type": "stream",
     "text": [
      "<class 'pandas.core.frame.DataFrame'>\n",
      "MultiIndex: 23487 entries, ('guid', '9e4b4e15282c605759a1fa8ac971cfbc') to ('guid', '0de914ebc5194657a2034564c3ee6b2b')\n",
      "Data columns (total 10 columns):\n",
      " #   Column              Non-Null Count  Dtype         \n",
      "---  ------              --------------  -----         \n",
      " 0   date                23487 non-null  datetime64[ns]\n",
      " 1   num                 4893 non-null   object        \n",
      " 2   description         23487 non-null  object        \n",
      " 3   crncy_space         23487 non-null  object        \n",
      " 4   crncy_id            23487 non-null  object        \n",
      " 5   crncy_name          23487 non-null  object        \n",
      " 6   crncy_xcode         0 non-null      object        \n",
      " 7   crncy_fraction      23487 non-null  object        \n",
      " 8   crncy_exponent      23487 non-null  float64       \n",
      " 9   crncy_quote_source  23487 non-null  object        \n",
      "dtypes: datetime64[ns](1), float64(1), object(8)"
     ]
    }
   ],
   "source": [
    "book.list_transactions().info()"
   ]
  },
  {
   "cell_type": "markdown",
   "metadata": {},
   "source": [
    "## Other methods\n",
    "\n",
    "Other methods return raw tables as pandas.DataFrame objects. Most of tables are indexed for convenience of join operations."
   ]
  },
  {
   "cell_type": "code",
   "execution_count": 9,
   "metadata": {},
   "outputs": [
    {
     "name": "stdout",
     "output_type": "stream",
     "text": [
      "<class 'pandas.core.frame.DataFrame'>\n",
      "MultiIndex: 227 entries, ('guid', '64806997695ef7c53fc2e6eef90f6d2b') to ('guid', '88891af9e7c7bca8689f70cf09825841')\n",
      "Data columns (total 7 columns):\n",
      " #   Column       Non-Null Count  Dtype \n",
      "---  ------       --------------  ----- \n",
      " 0   path         226 non-null    object\n",
      " 1   toplevel     226 non-null    object\n",
      " 2   type         227 non-null    object\n",
      " 3   code         33 non-null     object\n",
      " 4   description  220 non-null    object\n",
      " 5   cmd_space    227 non-null    object\n",
      " 6   cmd_id       226 non-null    object\n",
      "dtypes: object(7)"
     ]
    }
   ],
   "source": [
    "book.accounts().info()"
   ]
  },
  {
   "cell_type": "code",
   "execution_count": 10,
   "metadata": {},
   "outputs": [
    {
     "name": "stdout",
     "output_type": "stream",
     "text": [
      "<class 'pandas.core.frame.DataFrame'>\n",
      "MultiIndex: 49 entries, ('CURRENCY', 'JPY') to ('template', 'template')\n",
      "Data columns (total 5 columns):\n",
      " #   Column        Non-Null Count  Dtype  \n",
      "---  ------        --------------  -----  \n",
      " 0   name          49 non-null     object \n",
      " 1   xcode         42 non-null     object \n",
      " 2   fraction      49 non-null     object \n",
      " 3   exponent      49 non-null     float64\n",
      " 4   quote_source  37 non-null     object \n",
      "dtypes: float64(1), object(4)"
     ]
    }
   ],
   "source": [
    "book.commodities().info()"
   ]
  },
  {
   "cell_type": "code",
   "execution_count": 11,
   "metadata": {},
   "outputs": [
    {
     "name": "stdout",
     "output_type": "stream",
     "text": [
      "<class 'pandas.core.frame.DataFrame'>\n",
      "RangeIndex: 3454 entries, 0 to 3453\n",
      "Data columns (total 9 columns):\n",
      " #   Column       Non-Null Count  Dtype              \n",
      "---  ------       --------------  -----              \n",
      " 0   time         3454 non-null   datetime64[ns, UTC]\n",
      " 1   cmd_space    3454 non-null   object             \n",
      " 2   cmd_id       3454 non-null   object             \n",
      " 3   crncy_space  3454 non-null   object             \n",
      " 4   crncy_id     3454 non-null   object             \n",
      " 5   source       3454 non-null   object             \n",
      " 6   type         3454 non-null   object             \n",
      " 7   value        3454 non-null   object             \n",
      " 8   value_frac   3454 non-null   object             \n",
      "dtypes: datetime64[ns, UTC](1), object(8)"
     ]
    }
   ],
   "source": [
    "book.prices().info()"
   ]
  },
  {
   "cell_type": "code",
   "execution_count": 12,
   "metadata": {},
   "outputs": [
    {
     "name": "stdout",
     "output_type": "stream",
     "text": [
      "<class 'pandas.core.frame.DataFrame'>\n",
      "MultiIndex: 50694 entries, ('guid', 'faf151dc359482b7a8c9a3b877da80ab') to ('guid', '4081bca6b2a5417fbfe3c305d72d041b')\n",
      "Data columns (total 11 columns):\n",
      " #   Column         Non-Null Count  Dtype \n",
      "---  ------         --------------  ----- \n",
      " 0   action         1563 non-null   object\n",
      " 1   memo           6466 non-null   object\n",
      " 2   reconciled     50694 non-null  object\n",
      " 3   value          50694 non-null  object\n",
      " 4   value_frac     50694 non-null  object\n",
      " 5   quantity       50694 non-null  object\n",
      " 6   quantity_frac  50694 non-null  object\n",
      " 7   act_idtype     50694 non-null  object\n",
      " 8   act_id         50694 non-null  object\n",
      " 9   trn_idtype     50694 non-null  object\n",
      " 10  trn_id         50694 non-null  object\n",
      "dtypes: object(11)"
     ]
    }
   ],
   "source": [
    "book.splits().info()"
   ]
  },
  {
   "cell_type": "code",
   "execution_count": 13,
   "metadata": {},
   "outputs": [
    {
     "name": "stdout",
     "output_type": "stream",
     "text": [
      "<class 'pandas.core.frame.DataFrame'>\n",
      "MultiIndex: 23487 entries, ('guid', '9e4b4e15282c605759a1fa8ac971cfbc') to ('guid', '0de914ebc5194657a2034564c3ee6b2b')\n",
      "Data columns (total 5 columns):\n",
      " #   Column       Non-Null Count  Dtype         \n",
      "---  ------       --------------  -----         \n",
      " 0   date         23487 non-null  datetime64[ns]\n",
      " 1   num          4893 non-null   object        \n",
      " 2   description  23487 non-null  object        \n",
      " 3   crncy_space  23487 non-null  object        \n",
      " 4   crncy_id     23487 non-null  object        \n",
      "dtypes: datetime64[ns](1), object(4)"
     ]
    }
   ],
   "source": [
    "book.transactions().info()"
   ]
  }
 ],
 "metadata": {
  "kernelspec": {
   "display_name": "Python 3",
   "language": "python",
   "name": "python3"
  },
  "language_info": {
   "codemirror_mode": {
    "name": "ipython",
    "version": 3
   },
   "file_extension": ".py",
   "mimetype": "text/x-python",
   "name": "python",
   "nbconvert_exporter": "python",
   "pygments_lexer": "ipython3",
   "version": "3.7.7"
  }
 },
 "nbformat": 4,
 "nbformat_minor": 2
}
