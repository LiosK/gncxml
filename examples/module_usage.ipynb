{
 "cells": [
  {
   "cell_type": "markdown",
   "metadata": {},
   "source": [
    "# gncxml Usage Examples"
   ]
  },
  {
   "cell_type": "markdown",
   "metadata": {},
   "source": [
    "## Setup"
   ]
  },
  {
   "cell_type": "code",
   "execution_count": 1,
   "metadata": {},
   "outputs": [],
   "source": [
    "import sys\n",
    "import gncxml\n",
    "\n",
    "try:\n",
    "    book = gncxml.Book(\"mybook.gnucash\")\n",
    "except OSError as err:\n",
    "    sys.exit(err)"
   ]
  },
  {
   "cell_type": "markdown",
   "metadata": {},
   "source": [
    "## API Reference"
   ]
  },
  {
   "cell_type": "code",
   "execution_count": 2,
   "metadata": {},
   "outputs": [
    {
     "name": "stdout",
     "output_type": "stream",
     "text": [
      "Help on class Book in module gncxml.book:\n",
      "\n",
      "class Book(builtins.object)\n",
      " |  Book(gncfile)\n",
      " |  \n",
      " |  Parse GnuCash XML data file and provide interface to read journal entries and master data tables.\n",
      " |  \n",
      " |  Methods defined here:\n",
      " |  \n",
      " |  __init__(self, gncfile)\n",
      " |      Parameters\n",
      " |      ----------\n",
      " |      gncfile : file name or file object (io.BufferedReader)\n",
      " |          GnuCash data file (XML format)\n",
      " |  \n",
      " |  accounts(self)\n",
      " |      Return account entries as pandas.DataFrame.\n",
      " |  \n",
      " |  commodities(self)\n",
      " |      Return commodity (aka currency) entries as pandas.DataFrame.\n",
      " |  \n",
      " |  list_accounts(self)\n",
      " |      Return account entries as flat pandas.DataFrame after joining relevant tables.\n",
      " |  \n",
      " |  list_commodities(self)\n",
      " |      Return commodity (aka currency) entries as pandas.DataFrame (synonym for commodities()).\n",
      " |  \n",
      " |  list_prices(self)\n",
      " |      Return commodity price entries as flat pandas.DataFrame after joining relevant tables.\n",
      " |  \n",
      " |  list_splits(self)\n",
      " |      Return split (aka line item) entries as flat pandas.DataFrame after joining relevant tables.\n",
      " |  \n",
      " |  list_transactions(self)\n",
      " |      Return transaction (aka header) entries as flat pandas.DataFrame after joining relevant tables.\n",
      " |  \n",
      " |  prices(self)\n",
      " |      Return commodity price entries as pandas.DataFrame.\n",
      " |  \n",
      " |  splits(self)\n",
      " |      Return split (aka line item) entries as pandas.DataFrame.\n",
      " |  \n",
      " |  transactions(self)\n",
      " |      Return transaction (aka header) entries as pandas.DataFrame.\n",
      " |  \n",
      " |  ----------------------------------------------------------------------\n",
      " |  Data descriptors defined here:\n",
      " |  \n",
      " |  __dict__\n",
      " |      dictionary for instance variables (if defined)\n",
      " |  \n",
      " |  __weakref__\n",
      " |      list of weak references to the object (if defined)\n",
      "\n"
     ]
    }
   ],
   "source": [
    "help(gncxml.Book)"
   ]
  },
  {
   "cell_type": "markdown",
   "metadata": {},
   "source": [
    "## Book.list_*()\n",
    "\n",
    "Book.list_*() methods are the primary one-stop methods that return the entries as flat pandas.DataFrame objects after joining relevant internal tables."
   ]
  },
  {
   "cell_type": "code",
   "execution_count": 3,
   "metadata": {},
   "outputs": [
    {
     "name": "stdout",
     "output_type": "stream",
     "text": [
      "<class 'pandas.core.frame.DataFrame'>\n",
      "MultiIndex: 310 entries, ('guid', '64806997695ef7c53fc2e6eef90f6d2b') to ('guid', '17f5ce99465045f2a9c3bcd3fc3cd5ac')\n",
      "Data columns (total 14 columns):\n",
      " #   Column            Non-Null Count  Dtype  \n",
      "---  ------            --------------  -----  \n",
      " 0   path              309 non-null    object \n",
      " 1   toplevel          309 non-null    object \n",
      " 2   parent_path       298 non-null    object \n",
      " 3   name              310 non-null    object \n",
      " 4   type              310 non-null    object \n",
      " 5   code              34 non-null     object \n",
      " 6   description       301 non-null    object \n",
      " 7   cmd_space         310 non-null    object \n",
      " 8   cmd_id            309 non-null    object \n",
      " 9   cmd_name          309 non-null    object \n",
      " 10  cmd_xcode         47 non-null     object \n",
      " 11  cmd_fraction      309 non-null    object \n",
      " 12  cmd_exponent      309 non-null    float64\n",
      " 13  cmd_quote_source  266 non-null    object \n",
      "dtypes: float64(1), object(13)\n",
      "memory usage: 45.6+ KB\n"
     ]
    }
   ],
   "source": [
    "book.list_accounts().info()"
   ]
  },
  {
   "cell_type": "code",
   "execution_count": 4,
   "metadata": {},
   "outputs": [
    {
     "name": "stdout",
     "output_type": "stream",
     "text": [
      "<class 'pandas.core.frame.DataFrame'>\n",
      "MultiIndex: 58 entries, ('CURRENCY', 'CNY') to ('template', 'template')\n",
      "Data columns (total 5 columns):\n",
      " #   Column        Non-Null Count  Dtype  \n",
      "---  ------        --------------  -----  \n",
      " 0   name          58 non-null     object \n",
      " 1   xcode         48 non-null     object \n",
      " 2   fraction      58 non-null     object \n",
      " 3   exponent      58 non-null     float64\n",
      " 4   quote_source  38 non-null     object \n",
      "dtypes: float64(1), object(4)\n",
      "memory usage: 5.1+ KB\n"
     ]
    }
   ],
   "source": [
    "book.list_commodities().info()"
   ]
  },
  {
   "cell_type": "code",
   "execution_count": 5,
   "metadata": {},
   "outputs": [
    {
     "name": "stdout",
     "output_type": "stream",
     "text": [
      "<class 'pandas.core.frame.DataFrame'>\n",
      "RangeIndex: 5556 entries, 0 to 5555\n",
      "Data columns (total 19 columns):\n",
      " #   Column              Non-Null Count  Dtype              \n",
      "---  ------              --------------  -----              \n",
      " 0   time                5556 non-null   datetime64[ns, UTC]\n",
      " 1   cmd_space           5556 non-null   object             \n",
      " 2   cmd_id              5556 non-null   object             \n",
      " 3   crncy_space         5556 non-null   object             \n",
      " 4   crncy_id            5556 non-null   object             \n",
      " 5   source              5556 non-null   object             \n",
      " 6   type                5556 non-null   object             \n",
      " 7   value               5556 non-null   object             \n",
      " 8   value_frac          5556 non-null   object             \n",
      " 9   cmd_name            5556 non-null   object             \n",
      " 10  cmd_xcode           4915 non-null   object             \n",
      " 11  cmd_fraction        5556 non-null   object             \n",
      " 12  cmd_exponent        5556 non-null   float64            \n",
      " 13  cmd_quote_source    4083 non-null   object             \n",
      " 14  crncy_name          5556 non-null   object             \n",
      " 15  crncy_xcode         0 non-null      object             \n",
      " 16  crncy_fraction      5556 non-null   object             \n",
      " 17  crncy_exponent      5556 non-null   float64            \n",
      " 18  crncy_quote_source  5556 non-null   object             \n",
      "dtypes: datetime64[ns, UTC](1), float64(2), object(16)\n",
      "memory usage: 824.8+ KB\n"
     ]
    }
   ],
   "source": [
    "book.list_prices().info()"
   ]
  },
  {
   "cell_type": "code",
   "execution_count": 6,
   "metadata": {},
   "outputs": [
    {
     "name": "stdout",
     "output_type": "stream",
     "text": [
      "<class 'pandas.core.frame.DataFrame'>\n",
      "MultiIndex: 70307 entries, ('guid', 'faf151dc359482b7a8c9a3b877da80ab') to ('guid', '3cbdbf9d3e5e4329a4eb58b2db5a0863')\n",
      "Data columns (total 35 columns):\n",
      " #   Column                  Non-Null Count  Dtype         \n",
      "---  ------                  --------------  -----         \n",
      " 0   action                  1627 non-null   object        \n",
      " 1   memo                    8749 non-null   object        \n",
      " 2   reconciled              70307 non-null  object        \n",
      " 3   value                   70307 non-null  object        \n",
      " 4   value_frac              70307 non-null  object        \n",
      " 5   quantity                70307 non-null  object        \n",
      " 6   quantity_frac           70307 non-null  object        \n",
      " 7   act_idtype              70307 non-null  object        \n",
      " 8   act_id                  70307 non-null  object        \n",
      " 9   trn_idtype              70307 non-null  object        \n",
      " 10  trn_id                  70307 non-null  object        \n",
      " 11  act_path                70307 non-null  object        \n",
      " 12  act_toplevel            70307 non-null  object        \n",
      " 13  act_parent_path         70261 non-null  object        \n",
      " 14  act_name                70307 non-null  object        \n",
      " 15  act_type                70307 non-null  object        \n",
      " 16  act_code                13638 non-null  object        \n",
      " 17  act_description         66680 non-null  object        \n",
      " 18  act_cmd_space           70307 non-null  object        \n",
      " 19  act_cmd_id              70307 non-null  object        \n",
      " 20  act_cmd_name            70307 non-null  object        \n",
      " 21  act_cmd_xcode           2157 non-null   object        \n",
      " 22  act_cmd_fraction        70307 non-null  object        \n",
      " 23  act_cmd_exponent        70307 non-null  float64       \n",
      " 24  act_cmd_quote_source    65153 non-null  object        \n",
      " 25  trn_date                70307 non-null  datetime64[ns]\n",
      " 26  trn_num                 10241 non-null  object        \n",
      " 27  trn_description         70307 non-null  object        \n",
      " 28  trn_crncy_space         70307 non-null  object        \n",
      " 29  trn_crncy_id            70307 non-null  object        \n",
      " 30  trn_crncy_name          70307 non-null  object        \n",
      " 31  trn_crncy_xcode         0 non-null      object        \n",
      " 32  trn_crncy_fraction      70307 non-null  object        \n",
      " 33  trn_crncy_exponent      70307 non-null  float64       \n",
      " 34  trn_crncy_quote_source  65550 non-null  object        \n",
      "dtypes: datetime64[ns](1), float64(2), object(32)\n",
      "memory usage: 21.7+ MB\n"
     ]
    }
   ],
   "source": [
    "book.list_splits().info()"
   ]
  },
  {
   "cell_type": "code",
   "execution_count": 7,
   "metadata": {},
   "outputs": [
    {
     "name": "stdout",
     "output_type": "stream",
     "text": [
      "<class 'pandas.core.frame.DataFrame'>\n",
      "MultiIndex: 32658 entries, ('guid', '9e4b4e15282c605759a1fa8ac971cfbc') to ('guid', '6d7d50d8ef8742b1b7e0bbce6ee22f85')\n",
      "Data columns (total 10 columns):\n",
      " #   Column              Non-Null Count  Dtype         \n",
      "---  ------              --------------  -----         \n",
      " 0   date                32658 non-null  datetime64[ns]\n",
      " 1   num                 4893 non-null   object        \n",
      " 2   description         32658 non-null  object        \n",
      " 3   crncy_space         32658 non-null  object        \n",
      " 4   crncy_id            32658 non-null  object        \n",
      " 5   crncy_name          32658 non-null  object        \n",
      " 6   crncy_xcode         0 non-null      object        \n",
      " 7   crncy_fraction      32658 non-null  object        \n",
      " 8   crncy_exponent      32658 non-null  float64       \n",
      " 9   crncy_quote_source  30369 non-null  object        \n",
      "dtypes: datetime64[ns](1), float64(1), object(8)\n",
      "memory usage: 3.8+ MB\n"
     ]
    }
   ],
   "source": [
    "book.list_transactions().info()"
   ]
  },
  {
   "cell_type": "markdown",
   "metadata": {},
   "source": [
    "## Other methods\n",
    "\n",
    "Other methods return raw tables as pandas.DataFrame objects. Most of tables are indexed for convenience of join operations."
   ]
  },
  {
   "cell_type": "code",
   "execution_count": 8,
   "metadata": {},
   "outputs": [
    {
     "name": "stdout",
     "output_type": "stream",
     "text": [
      "<class 'pandas.core.frame.DataFrame'>\n",
      "MultiIndex: 310 entries, ('guid', '64806997695ef7c53fc2e6eef90f6d2b') to ('guid', '17f5ce99465045f2a9c3bcd3fc3cd5ac')\n",
      "Data columns (total 9 columns):\n",
      " #   Column       Non-Null Count  Dtype \n",
      "---  ------       --------------  ----- \n",
      " 0   path         309 non-null    object\n",
      " 1   toplevel     309 non-null    object\n",
      " 2   parent_path  298 non-null    object\n",
      " 3   name         310 non-null    object\n",
      " 4   type         310 non-null    object\n",
      " 5   code         34 non-null     object\n",
      " 6   description  301 non-null    object\n",
      " 7   cmd_space    310 non-null    object\n",
      " 8   cmd_id       309 non-null    object\n",
      "dtypes: object(9)\n",
      "memory usage: 33.4+ KB\n"
     ]
    }
   ],
   "source": [
    "book.accounts().info()"
   ]
  },
  {
   "cell_type": "code",
   "execution_count": 9,
   "metadata": {},
   "outputs": [
    {
     "name": "stdout",
     "output_type": "stream",
     "text": [
      "<class 'pandas.core.frame.DataFrame'>\n",
      "MultiIndex: 58 entries, ('CURRENCY', 'CNY') to ('template', 'template')\n",
      "Data columns (total 5 columns):\n",
      " #   Column        Non-Null Count  Dtype  \n",
      "---  ------        --------------  -----  \n",
      " 0   name          58 non-null     object \n",
      " 1   xcode         48 non-null     object \n",
      " 2   fraction      58 non-null     object \n",
      " 3   exponent      58 non-null     float64\n",
      " 4   quote_source  38 non-null     object \n",
      "dtypes: float64(1), object(4)\n",
      "memory usage: 5.1+ KB\n"
     ]
    }
   ],
   "source": [
    "book.commodities().info()"
   ]
  },
  {
   "cell_type": "code",
   "execution_count": 10,
   "metadata": {},
   "outputs": [
    {
     "name": "stdout",
     "output_type": "stream",
     "text": [
      "<class 'pandas.core.frame.DataFrame'>\n",
      "RangeIndex: 5556 entries, 0 to 5555\n",
      "Data columns (total 9 columns):\n",
      " #   Column       Non-Null Count  Dtype              \n",
      "---  ------       --------------  -----              \n",
      " 0   time         5556 non-null   datetime64[ns, UTC]\n",
      " 1   cmd_space    5556 non-null   object             \n",
      " 2   cmd_id       5556 non-null   object             \n",
      " 3   crncy_space  5556 non-null   object             \n",
      " 4   crncy_id     5556 non-null   object             \n",
      " 5   source       5556 non-null   object             \n",
      " 6   type         5556 non-null   object             \n",
      " 7   value        5556 non-null   object             \n",
      " 8   value_frac   5556 non-null   object             \n",
      "dtypes: datetime64[ns, UTC](1), object(8)\n",
      "memory usage: 390.8+ KB\n"
     ]
    }
   ],
   "source": [
    "book.prices().info()"
   ]
  },
  {
   "cell_type": "code",
   "execution_count": 11,
   "metadata": {},
   "outputs": [
    {
     "name": "stdout",
     "output_type": "stream",
     "text": [
      "<class 'pandas.core.frame.DataFrame'>\n",
      "MultiIndex: 70307 entries, ('guid', 'faf151dc359482b7a8c9a3b877da80ab') to ('guid', '3cbdbf9d3e5e4329a4eb58b2db5a0863')\n",
      "Data columns (total 11 columns):\n",
      " #   Column         Non-Null Count  Dtype \n",
      "---  ------         --------------  ----- \n",
      " 0   action         1627 non-null   object\n",
      " 1   memo           8749 non-null   object\n",
      " 2   reconciled     70307 non-null  object\n",
      " 3   value          70307 non-null  object\n",
      " 4   value_frac     70307 non-null  object\n",
      " 5   quantity       70307 non-null  object\n",
      " 6   quantity_frac  70307 non-null  object\n",
      " 7   act_idtype     70307 non-null  object\n",
      " 8   act_id         70307 non-null  object\n",
      " 9   trn_idtype     70307 non-null  object\n",
      " 10  trn_id         70307 non-null  object\n",
      "dtypes: object(11)\n",
      "memory usage: 8.8+ MB\n"
     ]
    }
   ],
   "source": [
    "book.splits().info()"
   ]
  },
  {
   "cell_type": "code",
   "execution_count": 12,
   "metadata": {},
   "outputs": [
    {
     "name": "stdout",
     "output_type": "stream",
     "text": [
      "<class 'pandas.core.frame.DataFrame'>\n",
      "MultiIndex: 32658 entries, ('guid', '9e4b4e15282c605759a1fa8ac971cfbc') to ('guid', '6d7d50d8ef8742b1b7e0bbce6ee22f85')\n",
      "Data columns (total 5 columns):\n",
      " #   Column       Non-Null Count  Dtype         \n",
      "---  ------       --------------  -----         \n",
      " 0   date         32658 non-null  datetime64[ns]\n",
      " 1   num          4893 non-null   object        \n",
      " 2   description  32658 non-null  object        \n",
      " 3   crncy_space  32658 non-null  object        \n",
      " 4   crncy_id     32658 non-null  object        \n",
      "dtypes: datetime64[ns](1), object(4)\n",
      "memory usage: 2.6+ MB\n"
     ]
    }
   ],
   "source": [
    "book.transactions().info()"
   ]
  }
 ],
 "metadata": {
  "kernelspec": {
   "display_name": "Python 3 (ipykernel)",
   "language": "python",
   "name": "python3"
  },
  "language_info": {
   "codemirror_mode": {
    "name": "ipython",
    "version": 3
   },
   "file_extension": ".py",
   "mimetype": "text/x-python",
   "name": "python",
   "nbconvert_exporter": "python",
   "pygments_lexer": "ipython3",
   "version": "3.9.18"
  }
 },
 "nbformat": 4,
 "nbformat_minor": 4
}
